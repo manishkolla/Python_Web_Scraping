{
  "nbformat": 4,
  "nbformat_minor": 0,
  "metadata": {
    "colab": {
      "provenance": [],
      "collapsed_sections": [],
      "include_colab_link": true
    },
    "kernelspec": {
      "name": "python3",
      "display_name": "Python 3"
    },
    "language_info": {
      "name": "python"
    }
  },
  "cells": [
    {
      "cell_type": "markdown",
      "metadata": {
        "id": "view-in-github",
        "colab_type": "text"
      },
      "source": [
        "<a href=\"https://colab.research.google.com/github/manishkolla/Python_Web_Scraping/blob/main/GSU_EBCS_Webscraper.ipynb\" target=\"_parent\"><img src=\"https://colab.research.google.com/assets/colab-badge.svg\" alt=\"Open In Colab\"/></a>"
      ]
    },
    {
      "cell_type": "markdown",
      "source": [
        "#GSU EBCS Webpage\n",
        "###Webpage URL: https://ebcs.gsu.edu/people/\n",
        "####Libraries Used: Requests, Beautifulsoup, and Pandas\n"
      ],
      "metadata": {
        "id": "DEtDun2d1CXV"
      }
    },
    {
      "cell_type": "markdown",
      "source": [
        "##Data Retrived from the webpage:\n",
        "1. Names and Designations of the employees\n",
        "2. Course names and Course numbers offered by the department"
      ],
      "metadata": {
        "id": "O8WWrn139lYk"
      }
    },
    {
      "cell_type": "markdown",
      "source": [
        "##Retriving names of employees and their designations"
      ],
      "metadata": {
        "id": "g_rppLW9093O"
      }
    },
    {
      "cell_type": "code",
      "source": [
        "#imporing the libraries and getting the url\n",
        "import requests\n",
        "from bs4 import BeautifulSoup\n",
        "import pandas as pd\n",
        "url= 'https://ebcs.gsu.edu/people/'\n",
        "req=requests.get(url)\n",
        "#creating empty list to append all the names and designations from the website\n",
        "names=[]\n",
        "designations=[]\n",
        "soup=BeautifulSoup(req.content, 'lxml')\n",
        "#Extracting the names of all the employees with anchor tag and class name and appending them to a list\n",
        "for x in soup.find_all('a', {'class': 'vc_gitem-link vc-zone-link'}):\n",
        "    names.append(x.get('title'))\n",
        "#Extracting the designations of all the employees with division tag and class name and appending them to a list and removing the excessive spaces\n",
        "for y in soup.find_all('div', {'class': 'vc_gitem-post-meta-field-wpcf-position profile_position vc_gitem-align-left'}):\n",
        "  designations.append(y.text.strip())\n",
        "\n",
        "#printing the lists and appending both the lists to a dictionary and setting up a Pandas DataFrame and converting it to a excel and csv file\n",
        "print(names)\n",
        "print(designations)\n",
        "dictio={'Names': names, 'Designation': designations}\n",
        "df=pd.DataFrame(dictio)\n",
        "df.to_excel(\"Employee_Data.xlsx\")\n",
        "df.to_csv(\"Employee_Data.csv\")\n",
        "print(df)"
      ],
      "metadata": {
        "colab": {
          "base_uri": "https://localhost:8080/"
        },
        "id": "meVrto7U1DwZ",
        "outputId": "dab349cf-5547-45ca-82e9-f62bca07a94f"
      },
      "execution_count": null,
      "outputs": [
        {
          "output_type": "stream",
          "name": "stdout",
          "text": [
            "['Marolyn Lucy Gentles', 'David Maimon', 'Sean O’Connor', 'Robert Harrison', 'Ashwin Ashok', 'Anu G. Bourgeois', 'Xiaojun Cao', 'Erin-Elizabeth Durham', 'Yubao Wu', 'Ruiyun (Frances) Chen', 'Charlotte Alexander', 'Mia Bloom', 'Marie Ouellet', 'Eric Sevigny', 'Volkan Topalli', 'Jeffrey L. Vagle', 'Kris Varjas', 'Richard Wright', 'Bhashithe Abeysinghe', 'Shelleen Akin', 'Sai Likhith Chilukurthi', 'Tessa Cole', 'Soumya Darbha', 'Lauren Drinnon', 'Sai Satya Srinivas Gangineni', 'Cameron Hoffman', 'Eden Kamar', 'Manik Kaur', 'Elif KIR', 'Maria Lee', 'Furkan Oruc', 'Hailey Owen', 'Robert C. Perkins', 'Hugo Sotelo', 'Lakshmi Sravya Kambhampati', 'Andrei State', 'Auriana Stevens', 'Fangzhou Wang', 'Hamza Anam', 'Marcus Aqui', 'Ahana Bhattacharya', 'Peyal Dhar', 'Temiloluwa Fasoranti', 'Olivia Jackson', 'Jonathan Laurent', 'Omolola Solaru', 'Olena Antonaccio', 'Tamar Berenblum', 'Adam Bossler', 'Ekaterina Botchkovar', 'George Burruss', 'Madeline Diep', 'Autumn Rose Greba', 'Destan Kirimhan', 'Nelly Lahoud', 'Damon McCoy', 'Michael McGuire', 'Maria Moloney', 'Sophia\\xa0Moskalenko', 'Caitlyn Muniz', 'Pierre-Luc Pomerleau', 'Jennifer Saenz', 'Shayla Salais', 'Hossein Siadati', 'Gianluca Stringhini', 'David Weisburd', 'Avinash Bondalapati', 'Srilekha Divyakolu', 'Christopher Freas', 'Om Satya Sai Ram Gadde', 'Dheeraj Reddy Jeeru', 'Naman Kanwar', 'Venkata Bharath Malapati', 'Adam Nichols', 'Adarsh Kumar Rai', 'Urmi Sarkar', 'Dhara Shah', 'Andrés Silva', 'Harnoor Singh', 'Praneeth Sinigirikonda', 'Nicholas Mark Stubler', 'Sameera Turupu', 'Lama Zaabab']\n",
            "['Associate Director of Research Administration', 'Director, Evidence Based Cybersecurity Research Group', 'Research Coordinator', 'Associate Director of Technology', 'Assistant Professor', 'Associate Professor', 'Director of Graduates studies, Computer Science Department', 'Part-Time Instructor', 'Assistant Professor', 'Assistant Professor', 'Connie D. and Ken WomenLead Associate Professor of Law and Analytic', 'Professor', 'Assistant Professor', 'Associate Professor', 'Professor', 'Assistant Professor', 'Professor', 'Professor', 'Graduate Assistant', 'Researcher', 'Graduate Assistant', 'Graduate Assistant', 'Graduate Assistant', 'Graduate Assistant', 'Graduate Assistant', 'Researcher', 'Researcher', 'Graduate Assistant', 'Graduate Assistant', 'Graduate Assistant', 'Researcher', 'Graduate Assistant', 'Ph.D. Student', 'Graduate Assistant', 'Graduate Assistant', 'Graduate Assistant', 'Graduate Assistant', 'Ph.D. Student', 'University Assistantship Program', 'University Assistantship Program', 'University Assistantship Program', 'University Assistantship Program', 'University Assistantship Program', 'University Assistantship Program', 'University Assistantship Program', 'University Assistantship Program', '', '', '', '', '', '', '', '', '', '', '', '', '', '', 'Post-doctoral Researcher', '', '', '', '', '', 'Software Engineer at Microsoft', 'Application Developer at ADP', 'Ph.D. Student', 'Developer at N2N Services Inc.', 'Engineer, SIP at Invesco Ltd', 'Graduate Assistant', 'Graduate Assistant', 'Cloud Security Associate at Manhattan Associates', 'Software Engineer at NCR Corp', 'Software Engineer II at LexisNexis Risk Solutions', 'Ph.D. Student', 'Analytics Manager at Seguros Bolívar', 'Software Engineer VII at NCR Corp', 'Senior in Advisory Services at EY', 'Graduate Assistant', 'Graduate Assistant', 'Student at Georgia Tech']\n",
            "                     Names                                        Designation\n",
            "0     Marolyn Lucy Gentles      Associate Director of Research Administration\n",
            "1             David Maimon  Director, Evidence Based Cybersecurity Researc...\n",
            "2            Sean O’Connor                               Research Coordinator\n",
            "3          Robert Harrison                   Associate Director of Technology\n",
            "4             Ashwin Ashok                                Assistant Professor\n",
            "..                     ...                                                ...\n",
            "78           Harnoor Singh                  Software Engineer VII at NCR Corp\n",
            "79  Praneeth Sinigirikonda                  Senior in Advisory Services at EY\n",
            "80   Nicholas Mark Stubler                                 Graduate Assistant\n",
            "81          Sameera Turupu                                 Graduate Assistant\n",
            "82             Lama Zaabab                            Student at Georgia Tech\n",
            "\n",
            "[83 rows x 2 columns]\n"
          ]
        }
      ]
    },
    {
      "cell_type": "markdown",
      "source": [
        "# Retriving the Courses offered by EBCS"
      ],
      "metadata": {
        "id": "RQeIdyPX2QdL"
      }
    },
    {
      "cell_type": "code",
      "source": [
        "#imporing the libraries and getting the url\n",
        "import requests\n",
        "from bs4 import BeautifulSoup\n",
        "import pandas as pd\n",
        "url= 'https://ebcs.gsu.edu/courses/#1551211613454-c5844681-6079'\n",
        "req=requests.get(url)\n",
        "soup=BeautifulSoup(req.content, 'lxml')\n",
        "#creating an empty list to append all ourse names and their corresponding course numbers\n",
        "classes_list=[]\n",
        "for x in soup.find_all('span', {'class': 'vc_tta-title-text'}):\n",
        "  classes_list.append(x.text)\n",
        "print(classes_list)\n",
        "'''\n",
        "seperating course numbers from the course names\n",
        "since all the course numbers and course names are not inputted in the sam format\n",
        "for instance some are seperared with a \" - \" and some are seperated by \"- \" and few are seperated by \" – \"\n",
        "Example: CRJU 4900 - Cybercrime, CRJU 4415- Evidence-Based Cyber Security, CIS 8088 – Network Security and Hacking\n",
        "all 3 of the above courses are written in a different way such that single splitting fucntion cannot seperate all the course numbers from their names\n",
        "'''\n",
        "numbers=[]\n",
        "numbers2=[]\n",
        "#looping throught the list and splitting few of the classes and appeding the the first term which is course numbers to a different list\n",
        "for x in classes_list:\n",
        "  numbers.append(x.split(\" - \")[0] and x.split(\"- \")[0])\n",
        "#looping throught the list with a specified index and splitting the rest of classes which haven't been done in the prevoious\n",
        "# looping of the classes and appeding the the first term which is the course numbers to a different list\n",
        "for i in numbers[-7:]:\n",
        "  numbers2.append(i.split(\" – \")[0])\n",
        "#removing the repeated terms from the list\n",
        "for j in range(-7,0):\n",
        "  numbers.pop(j)\n",
        "#adding up both the lists from both loopings and finalizing the list with course numbers\n",
        "numbers.extend(numbers2)\n",
        "\n",
        "print(\"Course Numbers: \\n\", numbers)\n",
        "#seperating course names from course numbers\n",
        "names=[]\n",
        "names2=[]\n",
        "#looping throught the list and splitting few of the classes and appeding the the secing term which is course names to a different list\n",
        "for y in classes_list:\n",
        "  names.append(y.split(\" - \")[-1] and y.split(\"- \")[-1])\n",
        "# print(names)\n",
        "#looping throught the list with a specified index and splitting the rest of classes which haven't been done in the prevoious\n",
        "# looping of the classes and appeding the the second term which is the course names to a different list\n",
        "for a in names[-7:]:\n",
        "  names2.append(a.split(\" – \")[-1])\n",
        "#removing the repeated elements and left over class names and class numbers which haven't been splitted\n",
        "for b in range(-7,0):\n",
        "  names.pop(b)\n",
        "#adding up both the lists from the looping and finalizing the list\n",
        "names.extend(names2)\n",
        "\n",
        "'''\n",
        "Creating a disctionary with both the lists of class names and class numbers\n",
        "and then creating a Pandas DataFrame and coverting the data frame into a excel and csv files\n",
        "'''\n",
        "print(\"Course names: \\n\", names)\n",
        "dict={'Course Numbers': numbers, 'Course Names': names}\n",
        "df2=pd.DataFrame(dict)\n",
        "df2.to_excel(\"courses.xlsx\")\n",
        "df2.to_csv(\"courses.csv\")\n",
        "print(df2)"
      ],
      "metadata": {
        "colab": {
          "base_uri": "https://localhost:8080/"
        },
        "id": "S9E9IBTF2UaX",
        "outputId": "b593e937-7973-4679-f9ed-3193f1bda98e"
      },
      "execution_count": null,
      "outputs": [
        {
          "output_type": "stream",
          "name": "stdout",
          "text": [
            "['CRJU 4900 - Cybercrime', 'CRJU 4415- Evidence-Based Cyber Security', 'CSC 4222 - Introduction to Cybersecurity', 'CSC 4223 - Privacy', 'CSC 4224 - Ethical Hacking', 'CSC 4250 - Malware Analysis and Defense', 'CSC 4251 - Computer Forensics', 'CSC 4226 - Introduction to Software Security', 'CIS 4000 - Introduction to Computer Forensics', 'CIS 4150 - Apprenticeship in Cybersecurity for FinTech', 'CIS 4680 - Introduction to Information Security and Privacy', 'CIS 4688 - Protecting Business Systems and Networks', 'CIS 4690 - Information and Information Systems Security Risk Management', 'CRJU 8900 - Cyber Crime Investigations', 'CSC 8222 - Network Security', 'CSC 8224 - Cryptography', 'CSC 8228 - Privacy Aware Computing', 'CSC 8370 - Data Security', 'CIS 8040 – Fundamentals of Database Management Systems', 'CIS 8088 – Network Security and Hacking', 'CIS 8085 – Information and Information Systems Risk Management', 'CIS 8086 – Protecting Information Assets', 'CIS 8087 – Cloud Computing and Security', 'CIS 8394 – Advanced Topics in Cybersecurity', 'CIS 8080 – Security and Privacy of Information and Information Systems']\n",
            "Course Numbers: \n",
            " ['CRJU 4900 ', 'CRJU 4415', 'CSC 4222 ', 'CSC 4223 ', 'CSC 4224 ', 'CSC 4250 ', 'CSC 4251 ', 'CSC 4226 ', 'CIS 4000 ', 'CIS 4150 ', 'CIS 4680 ', 'CIS 4688 ', 'CIS 4690 ', 'CRJU 8900 ', 'CSC 8222 ', 'CSC 8224 ', 'CSC 8228 ', 'CSC 8370 ', 'CIS 8040', 'CIS 8088', 'CIS 8085', 'CIS 8086', 'CIS 8087', 'CIS 8394', 'CIS 8080']\n",
            "Course names: \n",
            " ['Cybercrime', 'Evidence-Based Cyber Security', 'Introduction to Cybersecurity', 'Privacy', 'Ethical Hacking', 'Malware Analysis and Defense', 'Computer Forensics', 'Introduction to Software Security', 'Introduction to Computer Forensics', 'Apprenticeship in Cybersecurity for FinTech', 'Introduction to Information Security and Privacy', 'Protecting Business Systems and Networks', 'Information and Information Systems Security Risk Management', 'Cyber Crime Investigations', 'Network Security', 'Cryptography', 'Privacy Aware Computing', 'Data Security', 'Fundamentals of Database Management Systems', 'Network Security and Hacking', 'Information and Information Systems Risk Management', 'Protecting Information Assets', 'Cloud Computing and Security', 'Advanced Topics in Cybersecurity', 'Security and Privacy of Information and Information Systems']\n",
            "   Course Numbers                                       Course Names\n",
            "0      CRJU 4900                                          Cybercrime\n",
            "1       CRJU 4415                      Evidence-Based Cyber Security\n",
            "2       CSC 4222                       Introduction to Cybersecurity\n",
            "3       CSC 4223                                             Privacy\n",
            "4       CSC 4224                                     Ethical Hacking\n",
            "5       CSC 4250                        Malware Analysis and Defense\n",
            "6       CSC 4251                                  Computer Forensics\n",
            "7       CSC 4226                   Introduction to Software Security\n",
            "8       CIS 4000                  Introduction to Computer Forensics\n",
            "9       CIS 4150         Apprenticeship in Cybersecurity for FinTech\n",
            "10      CIS 4680    Introduction to Information Security and Privacy\n",
            "11      CIS 4688            Protecting Business Systems and Networks\n",
            "12      CIS 4690   Information and Information Systems Security R...\n",
            "13     CRJU 8900                          Cyber Crime Investigations\n",
            "14      CSC 8222                                    Network Security\n",
            "15      CSC 8224                                        Cryptography\n",
            "16      CSC 8228                             Privacy Aware Computing\n",
            "17      CSC 8370                                       Data Security\n",
            "18       CIS 8040        Fundamentals of Database Management Systems\n",
            "19       CIS 8088                       Network Security and Hacking\n",
            "20       CIS 8085  Information and Information Systems Risk Manag...\n",
            "21       CIS 8086                      Protecting Information Assets\n",
            "22       CIS 8087                       Cloud Computing and Security\n",
            "23       CIS 8394                   Advanced Topics in Cybersecurity\n",
            "24       CIS 8080  Security and Privacy of Information and Inform...\n"
          ]
        }
      ]
    },
    {
      "cell_type": "markdown",
      "source": [
        "###Pratice Work"
      ],
      "metadata": {
        "id": "dRXV3qBFzicU"
      }
    },
    {
      "cell_type": "code",
      "source": [
        "# a=soup.find_all('div', {'class': 'vc_grid-item vc_clearfix vc_col-sm-3 vc_visible-item fadeIn animated'})\n",
        "# print(a)\n",
        "# b=a.find('div', {'class': 'vc_grid-item-mini vc_clearfix '})\n",
        "# c=b.find('div', {'class': 'vc_gitem-animated-block  vc_gitem-animate vc_gitem-animate-flipFadeIn'})\n",
        "# d=c.find('div',{'class': 'vc_gitem-zone vc_gitem-zone-a vc_custom_1544125693819 vc-gitem-zone-height-mode-auto vc-gitem-zone-height-mode-auto-3-4 vc_gitem-is-link'})\n",
        "# f=e.find('a',{'class': 'absolute w-100 h-100 z-1 hide-sibling-opacity'})\n",
        "# g=f.find('span', {'class': 'w_EU'})\n",
        "# print()\n",
        "# print((x.find_all('div', {'class': 'mb1 ph1 pa0-xl bb b--near-white w-25'})).text)\n"
      ],
      "metadata": {
        "id": "KBC5GJ7UyT6v"
      },
      "execution_count": null,
      "outputs": []
    }
  ]
}