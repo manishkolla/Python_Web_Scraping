{
  "nbformat": 4,
  "nbformat_minor": 0,
  "metadata": {
    "colab": {
      "provenance": [],
      "authorship_tag": "ABX9TyPafdutqSuiZkAhDkaU16wB",
      "include_colab_link": true
    },
    "kernelspec": {
      "name": "python3",
      "display_name": "Python 3"
    },
    "language_info": {
      "name": "python"
    }
  },
  "cells": [
    {
      "cell_type": "markdown",
      "metadata": {
        "id": "view-in-github",
        "colab_type": "text"
      },
      "source": [
        "<a href=\"https://colab.research.google.com/github/manishkolla/Python_Web_Scraping/blob/main/Majors_Offered_by_GSU.ipynb\" target=\"_parent\"><img src=\"https://colab.research.google.com/assets/colab-badge.svg\" alt=\"Open In Colab\"/></a>"
      ]
    },
    {
      "cell_type": "markdown",
      "source": [
        "#GSU EBCS Webpage\n",
        "###Webpage URL: https://www.gsu.edu/program-cards/\n",
        "####Libraries Used: Selenium, Requests, Beautifulsoup, and Pandas"
      ],
      "metadata": {
        "id": "LG6WfvfNX9-n"
      }
    },
    {
      "cell_type": "markdown",
      "source": [
        "##Data Retrived from the webpage:\n",
        "1. Majors offered by Georgia State\n",
        "2. Whether the major/minior is offered for Bachelors/Masters/Ph.D"
      ],
      "metadata": {
        "id": "T0bxpbtVYXZf"
      }
    },
    {
      "cell_type": "code",
      "execution_count": null,
      "metadata": {
        "id": "Q5KufuVSVEMg"
      },
      "outputs": [],
      "source": [
        "from selenium import webdriver\n",
        "from selenium.webdriver.support.ui import WebDriverWait\n",
        "from selenium.webdriver.common.by import By\n",
        "from selenium.webdriver.support import expected_conditions as EC\n",
        "from selenium.webdriver.support.ui import Select\n",
        "from bs4 import BeautifulSoup\n",
        "import requests\n",
        "import pandas as pd\n",
        "import time\n",
        "\n",
        "import openpyxl\n",
        "from openpyxl import Workbook\n",
        "website='https://www.gsu.edu/program-cards/'\n",
        "# path=r'C:/Users/mkolla1/Downloads/chromedriver'\n",
        "\n",
        "driver=webdriver.Chrome('C:/Users/mkolla1/Downloads/chromedriver')\n",
        "driver.get(website)\n",
        "\n",
        "\n",
        "majors_list=[]\n",
        "# majors=driver.find_elements(By.CLASS_NAME, 'program-title')\n",
        "# for x in majors:\n",
        "#     majors_list.append(x.text)\n",
        "degree_list=[]\n",
        "# degree=driver.find_elements(By.CLASS_NAME, 'degree-type')\n",
        "# for y in degree:\n",
        "#     degree_list.append(y.text)\n",
        "\n",
        "\n",
        "#Pages itegration\n",
        "for i in range(1,10):\n",
        "    pg=driver.find_elements(By.CLASS_NAME, \"wpv-filter-pagination-link\")[i].get_attribute(\"href\")\n",
        "    driver.get(pg)\n",
        "    majors=driver.find_elements(By.CLASS_NAME, 'program-title')\n",
        "    for x in majors:\n",
        "        majors_list.append(x.text)\n",
        "    degree=driver.find_elements(By.CLASS_NAME, 'degree-type')\n",
        "    for y in degree:\n",
        "        degree_list.append(y.text)\n",
        "# print(majors_list, degree_list)\n",
        "# dictio={\"Majors\", majors_list}\n",
        "df=pd.DataFrame({\"Majors\": majors_list, \"Degrees\": degree_list})\n",
        "print(df)\n",
        "\n",
        "df.to_excel(r\"C:\\Users\\mkolla1\\Documents\\majors.xlsx\", index=False)\n",
        "df.to_csv(r\"C:\\Users\\mkolla1\\Documents\\majors.csv\", index=False)\n"
      ]
    }
  ]
}